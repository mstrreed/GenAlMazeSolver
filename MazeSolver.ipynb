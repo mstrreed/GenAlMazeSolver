{
 "cells": [
  {
   "cell_type": "code",
   "execution_count": 1,
   "id": "6efc3166-bfdd-4fc4-8143-51b1bac8b3eb",
   "metadata": {},
   "outputs": [
    {
     "name": "stdout",
     "output_type": "stream",
     "text": [
      "Requirement already satisfied: matplotlib in c:\\pythhon\\lib\\site-packages (3.8.0)\n",
      "Collecting deap\n",
      "  Downloading deap-1.4.1.tar.gz (1.1 MB)\n",
      "     ---------------------------------------- 0.0/1.1 MB ? eta -:--:--\n",
      "     ---------------------------------------- 0.0/1.1 MB ? eta -:--:--\n",
      "     ----- ---------------------------------- 0.1/1.1 MB 1.7 MB/s eta 0:00:01\n",
      "     ----------------------------------- ---- 0.9/1.1 MB 7.5 MB/s eta 0:00:01\n",
      "     ---------------------------------------- 1.1/1.1 MB 8.5 MB/s eta 0:00:00\n",
      "  Preparing metadata (setup.py): started\n",
      "  Preparing metadata (setup.py): finished with status 'done'\n",
      "Requirement already satisfied: contourpy>=1.0.1 in c:\\pythhon\\lib\\site-packages (from matplotlib) (1.2.0)\n",
      "Requirement already satisfied: cycler>=0.10 in c:\\pythhon\\lib\\site-packages (from matplotlib) (0.11.0)\n",
      "Requirement already satisfied: fonttools>=4.22.0 in c:\\pythhon\\lib\\site-packages (from matplotlib) (4.25.0)\n",
      "Requirement already satisfied: kiwisolver>=1.0.1 in c:\\pythhon\\lib\\site-packages (from matplotlib) (1.4.4)\n",
      "Requirement already satisfied: numpy<2,>=1.21 in c:\\pythhon\\lib\\site-packages (from matplotlib) (1.26.4)\n",
      "Requirement already satisfied: packaging>=20.0 in c:\\pythhon\\lib\\site-packages (from matplotlib) (23.1)\n",
      "Requirement already satisfied: pillow>=6.2.0 in c:\\pythhon\\lib\\site-packages (from matplotlib) (10.2.0)\n",
      "Requirement already satisfied: pyparsing>=2.3.1 in c:\\pythhon\\lib\\site-packages (from matplotlib) (3.0.9)\n",
      "Requirement already satisfied: python-dateutil>=2.7 in c:\\pythhon\\lib\\site-packages (from matplotlib) (2.8.2)\n",
      "Requirement already satisfied: six>=1.5 in c:\\pythhon\\lib\\site-packages (from python-dateutil>=2.7->matplotlib) (1.16.0)\n",
      "Building wheels for collected packages: deap\n",
      "  Building wheel for deap (setup.py): started\n",
      "  Building wheel for deap (setup.py): finished with status 'done'\n",
      "  Created wheel for deap: filename=deap-1.4.1-py3-none-any.whl size=97348 sha256=8601e2965463fdd8d77276eb419de623340f187e0964ba58ec66b65ab9b70f1f\n",
      "  Stored in directory: c:\\users\\win 10\\appdata\\local\\pip\\cache\\wheels\\f8\\64\\b8\\65eacfbff3024ae2e2beb22e691d5c8abb89fbd863b8049b5f\n",
      "Successfully built deap\n",
      "Installing collected packages: deap\n",
      "Successfully installed deap-1.4.1\n"
     ]
    }
   ],
   "source": [
    "!pip install matplotlib deap"
   ]
  },
  {
   "cell_type": "code",
   "execution_count": 2,
   "id": "03253717-94c7-4552-bb41-6931eb9fc5d6",
   "metadata": {},
   "outputs": [],
   "source": [
    "import random\n",
    "import numpy as np\n",
    "import matplotlib.pyplot as plt\n",
    "from deap import base, creator, tools, algorithms"
   ]
  },
  {
   "cell_type": "code",
   "execution_count": 3,
   "id": "499e1c06-58fa-4675-950a-1f892ecf454c",
   "metadata": {},
   "outputs": [],
   "source": [
    "# Define the maze\n",
    "maze = [\n",
    "    [0, 0, 0, 1, 1, 1, 1, 1, 1, 1, 1, 1, 1, 1, 0],\n",
    "    [0, 0, 0, 0, 0, 0, 0, 0, 0, 0, 0, 0, 0, 1, 0],\n",
    "    [0, 0, 0, 0, 0, 0, 0, 0, 0, 0, 0, 0, 0, 1, 0],\n",
    "    [1, 1, 0, 0, 0, 0, 0, 0, 0, 0, 0, 0, 0, 1, 0],\n",
    "    [1, 1, 1, 1, 1, 1, 1, 1, 1, 1, 0, 0, 0, 1, 0],\n",
    "    [1, 1, 1, 1, 1, 1, 1, 1, 1, 0, 0, 0, 0, 1, 0],\n",
    "    [1, 1, 1, 1, 1, 1, 1, 1, 0, 0, 0, 0, 0, 0, 0],\n",
    "    [1, 1, 1, 1, 1, 1, 1, 0, 0, 0, 0, 0, 0, 0, 0],\n",
    "    [1, 1, 1, 1, 1, 1, 0, 0, 0, 0, 0, 0, 0, 0, 0],\n",
    "    [1, 1, 1, 1, 1, 0, 0, 0, 0, 1, 1, 1, 1, 0, 0],\n",
    "    [1, 1, 1, 1, 0, 0, 0, 0, 0, 1, 1, 1, 1, 0, 0],\n",
    "    [1, 1, 1, 0, 0, 0, 0, 0, 0, 0, 0, 0, 0, 0, 0],\n",
    "    [1, 1, 0, 0, 1, 1, 1, 0, 0, 0, 0, 0, 0, 0, 0],\n",
    "    [1, 0, 0, 1, 1, 1, 1, 1, 1, 1, 1, 1, 0, 0, 0],\n",
    "    [0, 0, 1, 1, 1, 1, 1, 1, 1, 1, 1, 1, 0, 0, 0]\n",
    "]\n",
    "\n",
    "# Start and end points\n",
    "start, end = (0, 0), (len(maze)-1, len(maze[0])-1)"
   ]
  },
  {
   "cell_type": "code",
   "execution_count": 4,
   "id": "d2ee17ad-64c8-42d8-9e1a-a3be6d4a004d",
   "metadata": {},
   "outputs": [],
   "source": [
    "# Genetic Algorithm setup\n",
    "creator.create(\"FitnessMin\", base.Fitness, weights=(-1.0,))\n",
    "creator.create(\"Individual\", list, fitness=creator.FitnessMin)\n",
    "\n",
    "toolbox = base.Toolbox()\n",
    "toolbox.register(\"attr_direction\", random.choice, ['U', 'D', 'L', 'R'])\n",
    "toolbox.register(\"individual\", tools.initRepeat, creator.Individual, toolbox.attr_direction, n=100)\n",
    "toolbox.register(\"population\", tools.initRepeat, list, toolbox.individual)"
   ]
  },
  {
   "cell_type": "code",
   "execution_count": 5,
   "id": "f6b35a7d-68ae-4965-88a8-17cccc51501b",
   "metadata": {},
   "outputs": [],
   "source": [
    "def evaluate(individual):\n",
    "    x, y = start\n",
    "    for move in individual:\n",
    "        # Move up, down, left, or right while checking boundaries\n",
    "        if move == 'U': y = max(0, y - 1)\n",
    "        elif move == 'D': y = min(len(maze) - 1, y + 1)\n",
    "        elif move == 'L': x = max(0, x - 1)\n",
    "        elif move == 'R': x = min(len(maze[0]) - 1, x + 1)\n",
    "\n",
    "        # Check if the current position is the end goal\n",
    "        if (x, y) == end:\n",
    "            return (0,)  # Perfect score since we reached the end\n",
    "\n",
    "        # Check if the current position is a wall\n",
    "        if maze[y][x] == 1:\n",
    "            break\n",
    "\n",
    "    # Return the Manhattan distance to the end point as the score\n",
    "    return (abs(end[0] - x) + abs(end[1] - y),)"
   ]
  },
  {
   "cell_type": "code",
   "execution_count": 6,
   "id": "4895360f-c0dc-4afc-83c3-3b604259f139",
   "metadata": {},
   "outputs": [],
   "source": [
    "def custom_mutate(individual, indpb=0.2):\n",
    "    directions = ['U', 'D', 'L', 'R']\n",
    "    for i in range(len(individual)):\n",
    "        if random.random() < indpb:\n",
    "            # Exclude the current direction to ensure mutation changes the gene\n",
    "            possible_directions = [d for d in directions if d != individual[i]]\n",
    "            individual[i] = random.choice(possible_directions)\n",
    "    return individual,"
   ]
  },
  {
   "cell_type": "code",
   "execution_count": 7,
   "id": "72e738a1-7b35-4172-8aad-cdbb5523329c",
   "metadata": {},
   "outputs": [],
   "source": [
    "toolbox.register(\"evaluate\", evaluate)\n",
    "toolbox.register(\"select\", tools.selTournament, tournsize=3)\n",
    "toolbox.register(\"mate\", tools.cxUniform, indpb=0.5)\n",
    "toolbox.register(\"mutate\", custom_mutate, indpb=0.2)"
   ]
  },
  {
   "cell_type": "code",
   "execution_count": 8,
   "id": "4f7304d5-6c1b-4e84-80b8-29a358ebd5bc",
   "metadata": {},
   "outputs": [],
   "source": [
    "# Function to visualize the maze and path\n",
    "def plot_path(individual):\n",
    "    x, y = start\n",
    "    plt.plot(x, y, \"go\")  # start point\n",
    "    for move in individual:\n",
    "        # Attempt the move\n",
    "        next_x, next_y = x, y\n",
    "        if move == 'U': next_y = max(0, y - 1)\n",
    "        elif move == 'D': next_y = min(len(maze) - 1, y + 1)\n",
    "        elif move == 'L': next_x = max(0, x - 1)\n",
    "        elif move == 'R': next_x = min(len(maze[0]) - 1, x + 1)\n",
    "\n",
    "        # Check for wall collision before plotting the move\n",
    "        if maze[next_y][next_x] == 1 or (next_x, next_y) == end: break\n",
    "        # No collision, so make the move and plot it\n",
    "        x, y = next_x, next_y\n",
    "        # plt.plot(x, y, \"bo\")\n",
    "\n",
    "    plt.plot(end[0], end[1], \"ro\")  # end point\n",
    "    plt.imshow(maze, cmap=\"binary\")\n",
    "    plt.show()"
   ]
  },
  {
   "cell_type": "code",
   "execution_count": 9,
   "id": "d9cef1c0-26ff-40b2-9bba-26463df90aa9",
   "metadata": {},
   "outputs": [],
   "source": [
    "# Run the genetic algorithm\n",
    "def run_ga(generations=2000, pop_size=50):\n",
    "    pop = toolbox.population(n=pop_size)\n",
    "    best_individuals = []\n",
    "    for gen in range(generations):\n",
    "        offspring = algorithms.varAnd(pop, toolbox, cxpb=0.5, mutpb=0.2)\n",
    "        fits = toolbox.map(toolbox.evaluate, offspring)\n",
    "        for fit, ind in zip(fits, offspring):\n",
    "            ind.fitness.values = fit\n",
    "        pop = toolbox.select(offspring, k=len(pop))\n",
    "        top_individual = tools.selBest(pop, k=1)[0]\n",
    "        best_individuals.append(top_individual)\n",
    "\n",
    "        if gen in [2, 10, 50, 100, 500] or gen == generations - 1:\n",
    "            print(f\"Generation {gen}:\")\n",
    "            plot_path(top_individual)"
   ]
  },
  {
   "cell_type": "code",
   "execution_count": 10,
   "id": "c84ced00-0ff9-4abe-8ad7-f01da714434d",
   "metadata": {},
   "outputs": [
    {
     "name": "stdout",
     "output_type": "stream",
     "text": [
      "Generation 2:\n"
     ]
    },
    {
     "data": {
      "image/png": "[encoded data removed]",
      "text/plain": [
       "<Figure size 640x480 with 1 Axes>"
      ]
     },
     "metadata": {},
     "output_type": "display_data"
    },
    {
     "name": "stdout",
     "output_type": "stream",
     "text": [
      "Generation 10:\n"
     ]
    },
    {
     "data": {
      "image/png": "[encoded data removed]",
      "text/plain": [
       "<Figure size 640x480 with 1 Axes>"
      ]
     },
     "metadata": {},
     "output_type": "display_data"
    },
    {
     "name": "stdout",
     "output_type": "stream",
     "text": [
      "Generation 50:\n"
     ]
    },
    {
     "data": {
      "image/png": "[encoded data removed]",
      "text/plain": [
       "<Figure size 640x480 with 1 Axes>"
      ]
     },
     "metadata": {},
     "output_type": "display_data"
    },
    {
     "name": "stdout",
     "output_type": "stream",
     "text": [
      "Generation 100:\n"
     ]
    },
    {
     "data": {
      "image/png": "[encoded data removed]",
      "text/plain": [
       "<Figure size 640x480 with 1 Axes>"
      ]
     },
     "metadata": {},
     "output_type": "display_data"
    },
    {
     "name": "stdout",
     "output_type": "stream",
     "text": [
      "Generation 500:\n"
     ]
    },
    {
     "data": {
      "image/png": "[encoded data removed]",
      "text/plain": [
       "<Figure size 640x480 with 1 Axes>"
      ]
     },
     "metadata": {},
     "output_type": "display_data"
    },
    {
     "name": "stdout",
     "output_type": "stream",
     "text": [
      "Generation 1999:\n"
     ]
    },
    {
     "data": {
      "image/png": "[encoded data removed]",
      "text/plain": [
       "<Figure size 640x480 with 1 Axes>"
      ]
     },
     "metadata": {},
     "output_type": "display_data"
    }
   ],
   "source": [
    "run_ga()"
   ]
  },
  {
   "cell_type": "code",
   "execution_count": null,
   "id": "6e1fd706-6ad0-4454-a2be-6cfd992ff933",
   "metadata": {},
   "outputs": [],
   "source": []
  }
 ],
 "metadata": {
  "kernelspec": {
   "display_name": "Python 3 (ipykernel)",
   "language": "python",
   "name": "python3"
  },
  "language_info": {
   "codemirror_mode": {
    "name": "ipython",
    "version": 3
   },
   "file_extension": ".py",
   "mimetype": "text/x-python",
   "name": "python",
   "nbconvert_exporter": "python",
   "pygments_lexer": "ipython3",
   "version": "3.11.7"
  }
 },
 "nbformat": 4,
 "nbformat_minor": 5
}
